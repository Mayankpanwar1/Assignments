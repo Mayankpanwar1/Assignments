{
 "cells": [
  {
   "cell_type": "markdown",
   "id": "c45f5cf8-74c7-43b5-951a-cb1eb2081e6b",
   "metadata": {},
   "source": [
    "Statistics is the science of collecting , organizing and analyzing of data."
   ]
  },
  {
   "cell_type": "markdown",
   "id": "d9cbf70f-5969-40dc-b472-38a8f85b09b0",
   "metadata": {},
   "source": [
    "There are two types of statistics- descriptive Statistics and Inperennial Statistics.\n",
    "Descriptive Statistics- It consist of organizing and summarizing data. e.g. Suppose you ccalculate the average income of 100 people.\n",
    "Inferential Statistics- It consists of using sample data you have measured to make population date or conclusion. \n",
    "e.g. Suppose by calculation of average salary of 100 people you form conclusion that average salary of these 100 people will be same as of 1000 or 10000 people of same state or provincies ( here average salary of 100 people is sample data and average salary of 1000 or 10000 people is population data."
   ]
  },
  {
   "cell_type": "markdown",
   "id": "d9505b69-aec0-4eac-8a5d-a4a09cf926ef",
   "metadata": {},
   "source": [
    "There are two types of data - Quantitative and Qualitative .\n",
    "\n",
    "Quantitative data is information where data is in numerical form and operations like +,- can be performed in it.\n",
    "It has two sub types- Discrete and Continuous\n",
    "Discrete- In this only whole numbers are included no floating number can be included in it e.g. No of students in a school.\n",
    "Continuous- In this any numeric values can be included it can floating as well e.g. Weight of 10 students.\n",
    "\n",
    "Qualitative data refers to categErica data like Blood Group which has categoryes .\n",
    "It has two sub types- Nominal and Ordinal.\n",
    "Nominal- In nominal, no rank is given to set of iinformation e.g. Gender, Different coloyes.\n",
    "Ordinal- In ordinal, rank is given to categories . e.g. Customer feedback, Grades in school."
   ]
  },
  {
   "cell_type": "markdown",
   "id": "d09b1627-a645-4303-937a-5d43df9e42ce",
   "metadata": {},
   "source": [
    "(i) Grading in exam: A+, A, B+, B, C+, C, D, E is an example of qualitnative data type.\n",
    "(ii) Colour of mangoes: yellow, green, orange, red is example of qualitative data type.\n",
    "(iii) Height data of a class: [178.9, 179, 179.5, 176, 177.2, 178.3, 175.8,...] is a type of Quantitave data type.\n",
    "(iv) Number of mangoes exported by a farm: [500, 600, 478, 672, ...] is a type  of quantitavie data type."
   ]
  },
  {
   "cell_type": "markdown",
   "id": "f97695f9-0cc0-40e8-bf9b-9b380c5a0b97",
   "metadata": {},
   "source": [
    " The levels of measurement are a classification system for data that describes the amount of information that can be inferred from the values of a variable. There are four levels of measurement:\n",
    "\n",
    "Nominal: The nominal level of measurement is the most basic level. It only allows you to classify data into categories that are mutually exclusive and exhaustive. For example, the variable \"gender\" can be measured at the nominal level, with the categories \"male\" and \"female.\"\n",
    "Ordinal: The ordinal level of measurement allows you to rank data in order, but it does not allow you to make inferences about the size of the difference between any two values. For example, the variable \"grade\" can be measured at the ordinal level, with the categories \"A,\" \"B,\" \"C,\" \"D,\" and \"F.\"\n",
    "Interval: The interval level of measurement allows you to rank data in order and to make inferences about the size of the difference between any two values. However, it does not have a true zero point. For example, the variable \"temperature\" can be measured at the interval level, with the values \"10 degrees Celsius,\" \"20 degrees Celsius,\" and so on.\n",
    "Ratio: The ratio level of measurement is the most complex level of measurement. It allows you to rank data in order, to make inferences about the size of the difference between any two values, and to have a true zero point. For example, the variable \"height\" can be measured at the ratio level, with the values \"1 meter,\" \"2 meters,\" and so on."
   ]
  },
  {
   "cell_type": "markdown",
   "id": "ce58bd74-0a40-46c1-aa43-551e76761a25",
   "metadata": {},
   "source": [
    "Level of measurement helps  us to know that what amount of information can be infered form the values of variable.\n",
    "For example, if you are analyzing a variable that is measured at the nominal level, you cannot use statistical tests that require the ability to make inferences about the size of the difference between two values.\n"
   ]
  },
  {
   "cell_type": "markdown",
   "id": "76c8be8a-4fdc-4697-9f74-7d5d81a831a2",
   "metadata": {},
   "source": [
    "Nominal data is basic level , it only allows us to classify data into categories while Ordinal data the level of measurement allows you to rank data in order and gives rank as well. \n"
   ]
  },
  {
   "cell_type": "markdown",
   "id": "edc19a72-e639-4fd1-a7de-5ec148480151",
   "metadata": {},
   "source": [
    "Box plot can be used and histogram is also efficient."
   ]
  },
  {
   "cell_type": "markdown",
   "id": "8cdc77e3-ef07-498a-86e2-d6ca22d2d7aa",
   "metadata": {},
   "source": [
    "Descriptive statistics and inferential statistics are two broad categories of statistical methods that are used to analyze data.\n",
    "\n",
    "Descriptive statistics are used to summarize and describe data. They provide information about the central tendency, dispersion, and shape of a data set. Some examples of descriptive statistics include:\n",
    "\n",
    "Mean: The mean is the average of a data set.\n",
    "Median: The median is the middle value in a data set when the values are ranked from least to greatest.\n",
    "Mode: The mode is the most frequent value in a data set.\n",
    "Range: The range is the difference between the highest and lowest values in a data set.\n",
    "Variance: The variance is a measure of how spread out the data is.\n",
    "Standard deviation: The standard deviation is a measure of how much variation there is from the mean.\n",
    "Descriptive statistics are used to summarize and describe data so that it can be easily understood. They are also used to identify patterns and trends in data.\n",
    "\n",
    "Inferential statistics are used to make inferences about a population based on a sample of data. They allow researchers to draw conclusions about the population as a whole from the data they have collected from a small sample. Some examples of inferential statistics include:\n",
    "\n",
    "Hypothesis testing: Hypothesis testing is used to test whether there is a significant difference between two groups or sets of data.\n",
    "Confidence intervals: Confidence intervals are used to estimate the range of values within which the true population parameter is likely to fall.\n",
    "Regression analysis: Regression analysis is used to predict the value of one variable based on the value of another variable."
   ]
  },
  {
   "cell_type": "markdown",
   "id": "672185b4-4c1e-4e61-8078-d3b795e9c083",
   "metadata": {},
   "source": [
    "Measures of central tendency\n",
    "\n",
    "Mean: The mean is the average of a data set. It is calculated by adding up all of the values in a data set and dividing by the number of values.\n",
    "Median: The median is the middle value in a data set when the values are ranked from least to greatest.\n",
    "Mode: The mode is the most frequent value in a data set.\n",
    "Measures of variability\n",
    "\n",
    "Range: The range is the difference between the highest and lowest values in a data set.\n",
    "Variance: The variance is a measure of how spread out the data is. It is calculated by taking the average of the squared deviations from the mean.\n",
    "Standard deviation: The standard deviation is a measure of how much variation there is from the mean. It is calculated by taking the square root of the variance."
   ]
  },
  {
   "cell_type": "code",
   "execution_count": null,
   "id": "3d0fb51f-2277-46d4-84ed-7969154020a4",
   "metadata": {},
   "outputs": [],
   "source": []
  }
 ],
 "metadata": {
  "kernelspec": {
   "display_name": "Python 3 (ipykernel)",
   "language": "python",
   "name": "python3"
  },
  "language_info": {
   "codemirror_mode": {
    "name": "ipython",
    "version": 3
   },
   "file_extension": ".py",
   "mimetype": "text/x-python",
   "name": "python",
   "nbconvert_exporter": "python",
   "pygments_lexer": "ipython3",
   "version": "3.10.8"
  }
 },
 "nbformat": 4,
 "nbformat_minor": 5
}
